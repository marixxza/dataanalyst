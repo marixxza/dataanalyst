{
 "cells": [
  {
   "cell_type": "code",
   "execution_count": 31,
   "metadata": {
    "collapsed": true
   },
   "outputs": [],
   "source": [
    "import datetime"
   ]
  },
  {
   "cell_type": "code",
   "execution_count": 32,
   "metadata": {},
   "outputs": [
    {
     "name": "stdout",
     "output_type": "stream",
     "text": [
      "Jane Smith\n",
      "['Mr', 'Mrs', 'Ms']\n",
      "['Mr', 'Mrs', 'Ms']\n",
      "['Mrs', 'Ms']\n",
      "['Mrs', 'Ms']\n"
     ]
    }
   ],
   "source": [
    "class Person:\n",
    "    TITLES = ('Dr', 'Mr', 'Mrs', 'Ms')\n",
    "\n",
    "    def __init__(self, name, surname):\n",
    "        self.name = name\n",
    "        self.surname = surname\n",
    "\n",
    "    def fullname(self): # instance method\n",
    "        # instance object accessible through self\n",
    "        return \"%s %s\" % (self.name, self.surname)\n",
    "\n",
    "    @classmethod\n",
    "    def allowed_titles_starting_with(cls, startswith): # class method\n",
    "        # class or instance object accessible through cls\n",
    "        return [t for t in cls.TITLES if t.startswith(startswith)]\n",
    "\n",
    "    @staticmethod\n",
    "    def allowed_titles_ending_with(endswith): # static method\n",
    "        # no parameter for class or instance object\n",
    "        # we have to use Person directly\n",
    "        return [t for t in Person.TITLES if t.endswith(endswith)]\n",
    "\n",
    "\n",
    "jane = Person(\"Jane\", \"Smith\")\n",
    "\n",
    "print(jane.fullname())\n",
    "\n",
    "print(jane.allowed_titles_starting_with(\"M\"))\n",
    "print(Person.allowed_titles_starting_with(\"M\"))\n",
    "\n",
    "print(jane.allowed_titles_ending_with(\"s\"))\n",
    "print(Person.allowed_titles_ending_with(\"s\"))"
   ]
  },
  {
   "cell_type": "code",
   "execution_count": null,
   "metadata": {
    "collapsed": true
   },
   "outputs": [],
   "source": []
  },
  {
   "cell_type": "code",
   "execution_count": 2,
   "metadata": {},
   "outputs": [
    {
     "name": "stdout",
     "output_type": "stream",
     "text": [
      "Jane Doe, born 1992-03-12\n",
      "Address: No. 12 Short Street, Greenville\n",
      "Telephone: 555 456 0987\n",
      "Email:jane.doe@example.com\n"
     ]
    }
   ],
   "source": [
    "class Person:\n",
    "    def __init__(self, name, surname, birthdate, address, telephone, email):\n",
    "        self.name = name\n",
    "        self.surname = surname\n",
    "        self.birthdate = birthdate\n",
    "\n",
    "        self.address = address\n",
    "        self.telephone = telephone\n",
    "        self.email = email\n",
    "\n",
    "    def __str__(self):\n",
    "        return \"%s %s, born %s\\nAddress: %s\\nTelephone: %s\\nEmail:%s\" % (self.name, self.surname, self.birthdate, self.address, self.telephone, self.email)\n",
    "\n",
    "jane = Person(\n",
    "    \"Jane\",\n",
    "    \"Doe\",\n",
    "    datetime.date(1992, 3, 12), # year, month, day\n",
    "    \"No. 12 Short Street, Greenville\",\n",
    "    \"555 456 0987\",\n",
    "    \"jane.doe@example.com\"\n",
    ")\n",
    "\n",
    "print(jane)"
   ]
  },
  {
   "cell_type": "code",
   "execution_count": 3,
   "metadata": {
    "collapsed": true
   },
   "outputs": [],
   "source": [
    "class Person:\n",
    "    def __init__(self, name, surname):\n",
    "        self.name = name\n",
    "        self.surname = surname\n",
    "\n",
    "    def __eq__(self, other): # does self == other?\n",
    "        return self.name == other.name and self.surname == other.surname\n",
    "\n",
    "    def __gt__(self, other): # is self > other?\n",
    "        if self.surname == other.surname:\n",
    "            return self.name > other.name\n",
    "        return self.surname > other.surname\n",
    "\n",
    "    # now we can define all the other methods in terms of the first two\n",
    "\n",
    "    def __ne__(self, other): # does self != other?\n",
    "        return not self == other # this calls self.__eq__(other)\n",
    "\n",
    "    def __le__(self, other): # is self <= other?\n",
    "        return not self > other # this calls self.__gt__(other)\n",
    "\n",
    "    def __lt__(self, other): # is self < other?\n",
    "        return not (self > other or self == other)\n",
    "\n",
    "    def __ge__(self, other): # is self >= other?\n",
    "        return not self < other"
   ]
  },
  {
   "cell_type": "code",
   "execution_count": null,
   "metadata": {},
   "outputs": [],
   "source": []
  },
  {
   "cell_type": "code",
   "execution_count": 191,
   "metadata": {
    "collapsed": true
   },
   "outputs": [],
   "source": [
    "#Make a class called BankAccount\n",
    "\n",
    "class Person(object):\n",
    "    def __init__(self, name, surname, bday, address,phone,favoritenumber):\n",
    "        self.name = name\n",
    "        self.surname = surname    \n",
    "        self.bday = bday\n",
    "        self.address = address\n",
    "        self.phone = phone\n",
    "        self.favoritenumber = favoritenumber\n",
    "\n",
    "    \n",
    "   "
   ]
  },
  {
   "cell_type": "code",
   "execution_count": 192,
   "metadata": {
    "collapsed": true
   },
   "outputs": [],
   "source": [
    "Rey = Person( \"Reynaldo\",\"Pom\",datetime.date(2015, 12, 14),\"Sinaloa 902 Roma Norte\",\"555 456 0987\",\"190209\")"
   ]
  },
  {
   "cell_type": "code",
   "execution_count": 193,
   "metadata": {},
   "outputs": [
    {
     "data": {
      "text/plain": [
       "'555 456 0987'"
      ]
     },
     "execution_count": 193,
     "metadata": {},
     "output_type": "execute_result"
    }
   ],
   "source": [
    "Rey.phone"
   ]
  },
  {
   "cell_type": "code",
   "execution_count": 196,
   "metadata": {},
   "outputs": [],
   "source": [
    "class BankAccount(Person):\n",
    "    def __init__(self,bday,favoritenumber,phone,address):\n",
    "        self.address = address\n",
    "        self.phone= phone\n",
    "        self.bday=bday\n",
    "        self.favoritenumber=favoritenumber\n",
    "        #print('un objeto ha sido creado')\n",
    "\n",
    " \n",
    "    def NumCuenta(self):\n",
    "        bankaccount = str(self.bday)+str(self.favoritenumber)\n",
    "        print 'Su numero de cuenta es ', bankaccount\n",
    "       \n",
    "\n",
    "    def Contacto(self):\n",
    "        contacto=self.phone,self.address\n",
    "        print \"Comuníquese a :\", self.phone,\"\\nÓ por correo convencional a :\", self.address\n",
    "        #print('un objeto ha sido creado')"
   ]
  },
  {
   "cell_type": "code",
   "execution_count": 197,
   "metadata": {},
   "outputs": [
    {
     "name": "stdout",
     "output_type": "stream",
     "text": [
      "Su numero de cuenta es  2015-12-14190209\n",
      "Comuníquese a : 555 456 0987 \n",
      "Ó por correo convencional a : Sinaloa 902 Roma Norte\n"
     ]
    }
   ],
   "source": [
    "cuenta=BankAccount(Rey.bday,Rey.favoritenumber,Rey.phone,Rey.address)\n",
    "cuenta.NumCuenta()\n",
    "cuenta.Contacto()"
   ]
  },
  {
   "cell_type": "code",
   "execution_count": 242,
   "metadata": {},
   "outputs": [],
   "source": [
    "#Make a class called polygon and two sub classes from polygon called Square and Triangle\n",
    "\n",
    "class polygon:\n",
    "    def __init__(self,lado,b,a,cateto):\n",
    "        self.lado=lado\n",
    "        self.b=b\n",
    "        self.a=a\n",
    "        self.cateto=cateto\n",
    "    \n",
    "\n",
    "class Square(polygon): # define child class\n",
    "    def __init__(self,lado):\n",
    "        self.lado=lado\n",
    "        \n",
    "    def areasquare(self):\n",
    "        a=self.lado*self.lado\n",
    "        print a\n",
    "    def persquare(self):\n",
    "        p=self.lado*4\n",
    "        print p\n",
    "        \n",
    "        \n",
    "class Isoceles(polygon):\n",
    "    \n",
    "    def area(self):\n",
    "        a=self.b*self.a/2\n",
    "        print a\n",
    "        \n",
    "    def perimetro(self):\n",
    "        p=2*self.a+self.b\n",
    "        print p\n",
    "        \n",
    "class equilatero(Triangle):\n",
    "    def area(self):\n",
    "        a=self.b*self.a/2\n",
    "        print a\n",
    "    def perimetro(Triangle):\n",
    "        p=3*self.a\n",
    "        print p\n",
    "        \n",
    "class escaleno(Triangle):\n",
    "    def area(self):\n",
    "        a=self.b*self.a/2\n",
    "        print a\n",
    "    def perimetro(self):\n",
    "        p= self.a+self.b+self.cateto\n",
    "        print p\n",
    "    "
   ]
  },
  {
   "cell_type": "code",
   "execution_count": 243,
   "metadata": {},
   "outputs": [],
   "source": [
    "figura=polygon(5,4,12,2)"
   ]
  },
  {
   "cell_type": "code",
   "execution_count": 244,
   "metadata": {},
   "outputs": [
    {
     "data": {
      "text/plain": [
       "5"
      ]
     },
     "execution_count": 244,
     "metadata": {},
     "output_type": "execute_result"
    }
   ],
   "source": [
    "figura.lado"
   ]
  },
  {
   "cell_type": "code",
   "execution_count": 249,
   "metadata": {},
   "outputs": [
    {
     "name": "stdout",
     "output_type": "stream",
     "text": [
      "25\n",
      "24\n"
     ]
    }
   ],
   "source": [
    "ACuadrado=Square(figura.lado).areasquare()\n",
    "ATriangulo=Isoceles(0,figura.b,figura.a,figura.cateto).area()"
   ]
  },
  {
   "cell_type": "code",
   "execution_count": null,
   "metadata": {
    "collapsed": true
   },
   "outputs": [],
   "source": []
  }
 ],
 "metadata": {
  "kernelspec": {
   "display_name": "Python 2",
   "language": "python",
   "name": "python2"
  },
  "language_info": {
   "codemirror_mode": {
    "name": "ipython",
    "version": 2
   },
   "file_extension": ".py",
   "mimetype": "text/x-python",
   "name": "python",
   "nbconvert_exporter": "python",
   "pygments_lexer": "ipython2",
   "version": "2.7.13"
  }
 },
 "nbformat": 4,
 "nbformat_minor": 2
}
